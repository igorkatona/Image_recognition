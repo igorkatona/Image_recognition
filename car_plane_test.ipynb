{
 "cells": [
  {
   "cell_type": "code",
   "execution_count": 51,
   "metadata": {},
   "outputs": [],
   "source": [
    "# Importing all necessary libraries\n",
    "from keras.preprocessing.image import ImageDataGenerator\n",
    "from keras.models import Sequential\n",
    "from keras.layers import Conv2D, MaxPooling2D\n",
    "from keras.layers import Activation, Dropout, Flatten, Dense\n",
    "from keras import backend as K\n",
    "\n",
    "img_width, img_height = 224, 224\n"
   ]
  },
  {
   "cell_type": "code",
   "execution_count": 52,
   "metadata": {},
   "outputs": [],
   "source": [
    "train_data_dir = 'v_data/train'\n",
    "validation_data_dir = 'v_data/test'\n",
    "nb_train_samples =400\n",
    "nb_validation_samples = 100\n",
    "epochs = 20\n",
    "batch_size = 20\n"
   ]
  },
  {
   "cell_type": "code",
   "execution_count": 53,
   "metadata": {},
   "outputs": [],
   "source": [
    "if K.image_data_format() == 'channels_first':\n",
    "\tinput_shape = (3, img_width, img_height)\n",
    "else:\n",
    "\tinput_shape = (img_width, img_height, 3)\n"
   ]
  },
  {
   "cell_type": "code",
   "execution_count": 54,
   "metadata": {},
   "outputs": [],
   "source": [
    "model = Sequential()\n",
    "model.add(Conv2D(32, (2, 2), input_shape=input_shape))\n",
    "model.add(Activation('relu'))\n",
    "model.add(MaxPooling2D(pool_size=(2, 2)))\n",
    "\n",
    "model.add(Conv2D(32, (2, 2)))\n",
    "model.add(Activation('relu'))\n",
    "model.add(MaxPooling2D(pool_size=(2, 2)))\n",
    "\n",
    "model.add(Conv2D(64, (2, 2)))\n",
    "model.add(Activation('relu'))\n",
    "model.add(MaxPooling2D(pool_size=(2, 2)))\n",
    "\n",
    "model.add(Flatten())\n",
    "model.add(Dense(64))\n",
    "model.add(Activation('relu'))\n",
    "model.add(Dropout(0.5))\n",
    "model.add(Dense(1))\n",
    "model.add(Activation('sigmoid'))\n"
   ]
  },
  {
   "cell_type": "code",
   "execution_count": 55,
   "metadata": {},
   "outputs": [],
   "source": [
    "model.compile(loss='binary_crossentropy',\n",
    "\t\t\toptimizer='rmsprop',\n",
    "\t\t\tmetrics=['accuracy'])\n"
   ]
  },
  {
   "cell_type": "code",
   "execution_count": 56,
   "metadata": {},
   "outputs": [
    {
     "name": "stdout",
     "output_type": "stream",
     "text": [
      "Found 400 images belonging to 2 classes.\n",
      "Found 100 images belonging to 2 classes.\n"
     ]
    },
    {
     "name": "stderr",
     "output_type": "stream",
     "text": [
      "C:\\Users\\Rahul\\AppData\\Local\\Temp/ipykernel_3348/3762154218.py:21: UserWarning: `Model.fit_generator` is deprecated and will be removed in a future version. Please use `Model.fit`, which supports generators.\n",
      "  model.fit_generator(\n"
     ]
    },
    {
     "name": "stdout",
     "output_type": "stream",
     "text": [
      "Epoch 1/20\n",
      "20/20 [==============================] - 7s 303ms/step - loss: 1.0396 - accuracy: 0.5650 - val_loss: 0.5217 - val_accuracy: 0.7200\n",
      "Epoch 2/20\n",
      "20/20 [==============================] - 6s 307ms/step - loss: 0.5299 - accuracy: 0.7275 - val_loss: 0.3686 - val_accuracy: 0.8500\n",
      "Epoch 3/20\n",
      "20/20 [==============================] - 6s 302ms/step - loss: 0.4976 - accuracy: 0.7625 - val_loss: 0.3964 - val_accuracy: 0.8200\n",
      "Epoch 4/20\n",
      "20/20 [==============================] - 6s 298ms/step - loss: 0.3983 - accuracy: 0.8200 - val_loss: 0.5833 - val_accuracy: 0.7300\n",
      "Epoch 5/20\n",
      "20/20 [==============================] - 6s 299ms/step - loss: 0.4652 - accuracy: 0.8175 - val_loss: 0.3328 - val_accuracy: 0.8500\n",
      "Epoch 6/20\n",
      "20/20 [==============================] - 6s 297ms/step - loss: 0.3562 - accuracy: 0.8475 - val_loss: 0.2833 - val_accuracy: 0.8700\n",
      "Epoch 7/20\n",
      "20/20 [==============================] - 6s 298ms/step - loss: 0.2933 - accuracy: 0.8900 - val_loss: 1.0103 - val_accuracy: 0.6900\n",
      "Epoch 8/20\n",
      "20/20 [==============================] - 6s 299ms/step - loss: 0.3452 - accuracy: 0.8675 - val_loss: 0.2705 - val_accuracy: 0.9000\n",
      "Epoch 9/20\n",
      "20/20 [==============================] - 6s 298ms/step - loss: 0.3188 - accuracy: 0.8750 - val_loss: 0.2838 - val_accuracy: 0.9000\n",
      "Epoch 10/20\n",
      "20/20 [==============================] - 6s 297ms/step - loss: 0.2545 - accuracy: 0.8900 - val_loss: 0.2769 - val_accuracy: 0.9000\n",
      "Epoch 11/20\n",
      "20/20 [==============================] - 6s 305ms/step - loss: 0.3112 - accuracy: 0.8625 - val_loss: 0.3183 - val_accuracy: 0.8500\n",
      "Epoch 12/20\n",
      "20/20 [==============================] - 6s 297ms/step - loss: 0.2837 - accuracy: 0.8850 - val_loss: 0.2922 - val_accuracy: 0.8800\n",
      "Epoch 13/20\n",
      "20/20 [==============================] - 6s 298ms/step - loss: 0.2634 - accuracy: 0.8850 - val_loss: 0.3408 - val_accuracy: 0.8400\n",
      "Epoch 14/20\n",
      "20/20 [==============================] - 6s 297ms/step - loss: 0.2529 - accuracy: 0.9000 - val_loss: 0.2805 - val_accuracy: 0.8700\n",
      "Epoch 15/20\n",
      "20/20 [==============================] - 6s 292ms/step - loss: 0.2591 - accuracy: 0.9100 - val_loss: 0.3015 - val_accuracy: 0.8800\n",
      "Epoch 16/20\n",
      "20/20 [==============================] - 6s 296ms/step - loss: 0.2203 - accuracy: 0.9150 - val_loss: 0.2889 - val_accuracy: 0.8800\n",
      "Epoch 17/20\n",
      "20/20 [==============================] - 6s 298ms/step - loss: 0.2361 - accuracy: 0.9350 - val_loss: 0.3623 - val_accuracy: 0.8500\n",
      "Epoch 18/20\n",
      "20/20 [==============================] - 6s 293ms/step - loss: 0.2670 - accuracy: 0.8825 - val_loss: 0.3712 - val_accuracy: 0.8500\n",
      "Epoch 19/20\n",
      "20/20 [==============================] - 6s 296ms/step - loss: 0.2193 - accuracy: 0.9300 - val_loss: 0.2912 - val_accuracy: 0.8700\n",
      "Epoch 20/20\n",
      "20/20 [==============================] - 6s 296ms/step - loss: 0.2058 - accuracy: 0.9325 - val_loss: 0.3531 - val_accuracy: 0.8500\n"
     ]
    },
    {
     "data": {
      "text/plain": [
       "<keras.callbacks.History at 0x14b52daab80>"
      ]
     },
     "execution_count": 56,
     "metadata": {},
     "output_type": "execute_result"
    }
   ],
   "source": [
    "train_datagen = ImageDataGenerator(\n",
    "\trescale=1. / 255,\n",
    "\tshear_range=0.2,\n",
    "\tzoom_range=0.2,\n",
    "\thorizontal_flip=True)\n",
    "\n",
    "test_datagen = ImageDataGenerator(rescale=1. / 255)\n",
    "\n",
    "train_generator = train_datagen.flow_from_directory(\n",
    "\ttrain_data_dir,\n",
    "\ttarget_size=(img_width, img_height),\n",
    "\tbatch_size=batch_size,\n",
    "\tclass_mode='binary')\n",
    "\n",
    "validation_generator = test_datagen.flow_from_directory(\n",
    "\tvalidation_data_dir,\n",
    "\ttarget_size=(img_width, img_height),\n",
    "\tbatch_size=batch_size,\n",
    "\tclass_mode='binary')\n",
    "\n",
    "model.fit(\n",
    "\ttrain_generator,\n",
    "\tsteps_per_epoch=nb_train_samples // batch_size,\n",
    "\tepochs=epochs,\n",
    "\tvalidation_data=validation_generator,\n",
    "\tvalidation_steps=nb_validation_samples // batch_size)\n"
   ]
  },
  {
   "cell_type": "code",
   "execution_count": 61,
   "metadata": {},
   "outputs": [],
   "source": [
    "model.save('model_saved.h5')\n"
   ]
  },
  {
   "cell_type": "code",
   "execution_count": 62,
   "metadata": {},
   "outputs": [],
   "source": [
    "from keras.models import load_model\n",
    "from keras.preprocessing.image import load_img\n",
    "from keras.preprocessing.image import img_to_array\n",
    "from keras.applications.vgg16 import preprocess_input\n",
    "from keras.applications.vgg16 import decode_predictions\n",
    "from keras.applications.vgg16 import VGG16\n",
    "import numpy as np\n",
    "\n",
    "from keras.models import load_model\n",
    "\n"
   ]
  },
  {
   "cell_type": "code",
   "execution_count": 63,
   "metadata": {},
   "outputs": [],
   "source": [
    "model = load_model('model_saved.h5')\n",
    "\n"
   ]
  },
  {
   "cell_type": "code",
   "execution_count": 70,
   "metadata": {},
   "outputs": [
    {
     "name": "stdout",
     "output_type": "stream",
     "text": [
      "Predicted Class (0 - Cars , 1- Planes):  1.0\n"
     ]
    }
   ],
   "source": [
    "image = load_img('v_data/test/planes/35.jpg')\n",
    "img = np.array(image)\n",
    "#img = img / 255.0\n",
    "img = img.reshape(1,224,224,3)\n",
    "label = model.predict(img)\n",
    "print(\"Predicted Class (0 - Cars , 1- Planes): \", label[0][0])"
   ]
  },
  {
   "cell_type": "code",
   "execution_count": null,
   "metadata": {},
   "outputs": [],
   "source": []
  }
 ],
 "metadata": {
  "interpreter": {
   "hash": "b3ba2566441a7c06988d0923437866b63cedc61552a5af99d1f4fb67d367b25f"
  },
  "kernelspec": {
   "display_name": "Python 3.9.7 ('base')",
   "language": "python",
   "name": "python3"
  },
  "language_info": {
   "codemirror_mode": {
    "name": "ipython",
    "version": 3
   },
   "file_extension": ".py",
   "mimetype": "text/x-python",
   "name": "python",
   "nbconvert_exporter": "python",
   "pygments_lexer": "ipython3",
   "version": "3.9.7"
  },
  "orig_nbformat": 4
 },
 "nbformat": 4,
 "nbformat_minor": 2
}
