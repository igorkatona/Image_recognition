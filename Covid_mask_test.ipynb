{
 "cells": [
  {
   "cell_type": "markdown",
   "metadata": {},
   "source": [
    "# Notebook for testing images with saved model\n"
   ]
  },
  {
   "cell_type": "code",
   "execution_count": 16,
   "metadata": {},
   "outputs": [],
   "source": [
    "###Image Recognition with Trained Model\n",
    "# Import the libraries\n",
    "import numpy as np\n",
    "from keras.preprocessing import image\n",
    "import tensorflow as tf\n",
    "from keras.models import load_model\n",
    "import cv2 \n"
   ]
  },
  {
   "cell_type": "code",
   "execution_count": 17,
   "metadata": {},
   "outputs": [],
   "source": [
    "resnet_model = load_model('myModel_saved.h5')"
   ]
  },
  {
   "cell_type": "code",
   "execution_count": 18,
   "metadata": {},
   "outputs": [],
   "source": [
    "img_height, img_width = 180, 180\n",
    "class_names = ['with_mask', 'without_mask']"
   ]
  },
  {
   "cell_type": "code",
   "execution_count": 19,
   "metadata": {},
   "outputs": [
    {
     "name": "stdout",
     "output_type": "stream",
     "text": [
      "[3.7285814e-09 1.0000000e+00]\n",
      "The predicted class is without_mask\n"
     ]
    }
   ],
   "source": [
    "imageSize=[img_height,img_width]\n",
    "imageLocation = \"./woman.jpg\"\n",
    "predictImage = tf.keras.preprocessing.image.load_img(\n",
    "    imageLocation, \n",
    "    target_size=imageSize\n",
    ")\n",
    "img_array = tf.keras.preprocessing.image.img_to_array(predictImage)\n",
    "# Expading dims again to apropriate for modelo\n",
    "img_array = tf.expand_dims(img_array, 0)\n",
    "\n",
    "# Making a prediction and dividing it with 255.0 to be able to represent likelihood in percentages\n",
    "predictions = resnet_model.predict(img_array)\n",
    "\n",
    "score = predictions[0]\n",
    "\n",
    "print(score)\n",
    "\n",
    "output_class=class_names[np.argmax(predictions)]\n",
    "print(\"The predicted class is\", output_class)"
   ]
  },
  {
   "cell_type": "code",
   "execution_count": 20,
   "metadata": {},
   "outputs": [
    {
     "name": "stdout",
     "output_type": "stream",
     "text": [
      "The predicted class is without_mask\n",
      "The predicted class is with_mask\n",
      "The predicted class is with_mask\n",
      "The predicted class is without_mask\n"
     ]
    }
   ],
   "source": [
    "\n",
    "\n",
    "imageList = {\n",
    "    0 : './woman.jpg',\n",
    "    1 : './w_mask.jpg',\n",
    "    2 : './w_mask2.jpg',\n",
    "    3 : './woman2.jpg'\n",
    "}\n",
    "\n",
    "for index, value in enumerate(imageList):\n",
    "    image_for =cv2.imread(imageList[value])\n",
    "    image_resized= cv2.resize(image_for, (img_width,img_height))\n",
    "    image_for=np.expand_dims(image_resized,axis=0)\n",
    "    pred=resnet_model.predict(image_for)\n",
    "    output_class=class_names[np.argmax(pred)]\n",
    "    print(\"The predicted class is\", output_class)"
   ]
  }
 ],
 "metadata": {
  "interpreter": {
   "hash": "804048d7f206932fa76a51ab2607cf9b2f4cd4865d83ff265697405eb1e874b4"
  },
  "kernelspec": {
   "display_name": "Python 3.10.4 64-bit (windows store)",
   "language": "python",
   "name": "python3"
  },
  "language_info": {
   "codemirror_mode": {
    "name": "ipython",
    "version": 3
   },
   "file_extension": ".py",
   "mimetype": "text/x-python",
   "name": "python",
   "nbconvert_exporter": "python",
   "pygments_lexer": "ipython3",
   "version": "3.10.4"
  },
  "orig_nbformat": 4
 },
 "nbformat": 4,
 "nbformat_minor": 2
}
