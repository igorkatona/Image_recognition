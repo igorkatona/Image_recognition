{
  "nbformat": 4,
  "nbformat_minor": 0,
  "metadata": {
    "colab": {
      "name": "Final VGG16 Covid mask VGG16.ipynb",
      "provenance": [],
      "collapsed_sections": []
    },
    "kernelspec": {
      "name": "python3",
      "display_name": "Python 3"
    },
    "language_info": {
      "name": "python"
    }
  },
  "cells": [
    {
      "cell_type": "code",
      "execution_count": null,
      "metadata": {
        "id": "ZI5SDnvu1-fi"
      },
      "outputs": [],
      "source": [
        "import numpy as np\n",
        "import os\n",
        "from keras.preprocessing import image\n",
        "from keras.models import Model\n",
        "from keras.models import Sequential\n",
        "from keras.layers import Dense, Conv2D, MaxPool2D , Flatten\n",
        "from keras.preprocessing.image import ImageDataGenerator\n",
        "import keras\n",
        "import matplotlib.pyplot as plt\n",
        "import PIL\n",
        "import tensorflow as tf\n",
        "from keras import layers\n",
        "from tensorflow.keras.optimizers import Adam\n",
        "from keras.applications.vgg16 import VGG16"
      ]
    },
    {
      "cell_type": "code",
      "source": [
        "from google.colab import drive\n",
        "drive.mount('/content/drive')"
      ],
      "metadata": {
        "colab": {
          "base_uri": "https://localhost:8080/"
        },
        "id": "v1ojAyvN2TvU",
        "outputId": "5b0ac152-6111-46d1-ef13-e0b9b8161166"
      },
      "execution_count": null,
      "outputs": [
        {
          "output_type": "stream",
          "name": "stdout",
          "text": [
            "Mounted at /content/drive\n"
          ]
        }
      ]
    },
    {
      "cell_type": "code",
      "source": [
        "myFile = \"/content/drive/MyDrive/data\"\n",
        "fullPath = os.path.abspath(\"/content/drive/MyDrive/data\")\n",
        "data_for_processing = tf.keras.utils.get_file( fname= myFile,origin='file://'+fullPath)\n"
      ],
      "metadata": {
        "id": "IERv3Ove_OwG"
      },
      "execution_count": null,
      "outputs": []
    },
    {
      "cell_type": "code",
      "source": [
        "img_height,img_width=180,180\n",
        "batch_size=32\n",
        "number_classes = 2"
      ],
      "metadata": {
        "id": "mU0IgK2JCOJt"
      },
      "execution_count": null,
      "outputs": []
    },
    {
      "cell_type": "code",
      "source": [
        "# Spliting our data set for training and test\n",
        "\n",
        "# We split our data_for_processing and take 80% of available data and put it in train_ds\n",
        "train_ds = tf.keras.preprocessing.image_dataset_from_directory(\n",
        "  data_for_processing,                          #               \n",
        "  validation_split=0.3,                         # Optional float between 0 and 1, fraction of data to reserve for validation.  \n",
        "  subset=\"training\",                            # One of \"training\" or \"validation\". Only used if validation_split is set.\n",
        "  seed=123,                                     # Optional random seed for shuffling and transformations.\n",
        "  image_size=(img_height, img_width),           # Size to resize images to after they are read from disk. Defaults to (256, 256)\n",
        "  batch_size=batch_size)                        # Size of the batches of data. Default: 32. If None, the data will not be batched\n",
        "\n",
        "# We split our data_for_processing and take 20% of available data and put it in val_ds\n",
        "val_ds = tf.keras.preprocessing.image_dataset_from_directory(\n",
        "  data_for_processing,\n",
        "  validation_split=0.3,\n",
        "  subset=\"validation\",\n",
        "  seed=123,\n",
        "  image_size=(img_height, img_width),\n",
        "  batch_size=batch_size)"
      ],
      "metadata": {
        "colab": {
          "base_uri": "https://localhost:8080/"
        },
        "id": "wOfnHq36CP1Q",
        "outputId": "668bb303-6877-42ad-935e-7ad82a729ba6"
      },
      "execution_count": null,
      "outputs": [
        {
          "output_type": "stream",
          "name": "stdout",
          "text": [
            "Found 7553 files belonging to 2 classes.\n",
            "Using 5288 files for training.\n",
            "Found 7553 files belonging to 2 classes.\n",
            "Using 2265 files for validation.\n"
          ]
        }
      ]
    },
    {
      "cell_type": "code",
      "source": [
        "class_names = train_ds.class_names\n",
        "\n",
        "print(class_names)"
      ],
      "metadata": {
        "colab": {
          "base_uri": "https://localhost:8080/"
        },
        "id": "txZ9hKq8C6_r",
        "outputId": "40e02230-effd-4bfc-cad5-1e01349280d7"
      },
      "execution_count": null,
      "outputs": [
        {
          "output_type": "stream",
          "name": "stdout",
          "text": [
            "['with_mask', 'without_mask']\n"
          ]
        }
      ]
    },
    {
      "cell_type": "code",
      "source": [
        "vgg16_model = Sequential()\n",
        "pretrained_model = tf.keras.applications.VGG16(\n",
        "    include_top=False,\n",
        "    weights=\"imagenet\",\n",
        "    input_shape=(img_height,img_width,3),\n",
        "    pooling='avg',\n",
        "    classes=number_classes,\n",
        ")\n",
        "for layer in pretrained_model.layers:\n",
        "        layer.trainable=False\n",
        "vgg16_model.add(pretrained_model)"
      ],
      "metadata": {
        "id": "-Z4mJthMC-aq",
        "colab": {
          "base_uri": "https://localhost:8080/"
        },
        "outputId": "051a443a-5593-4ad2-c920-b9b9df4439ff"
      },
      "execution_count": null,
      "outputs": [
        {
          "output_type": "stream",
          "name": "stdout",
          "text": [
            "Downloading data from https://storage.googleapis.com/tensorflow/keras-applications/vgg16/vgg16_weights_tf_dim_ordering_tf_kernels_notop.h5\n",
            "58892288/58889256 [==============================] - 1s 0us/step\n",
            "58900480/58889256 [==============================] - 1s 0us/step\n"
          ]
        }
      ]
    },
    {
      "cell_type": "code",
      "source": [
        "vgg16_model.add(layers.Flatten())\n",
        "\n",
        "vgg16_model.add(layers.Dense(512, activation='relu'))\n",
        "\n",
        "\n",
        "\n",
        "\n",
        "vgg16_model.add(layers.Dense(number_classes, activation='softmax'))\n",
        "\n",
        "\n",
        "vgg16_model.summary()"
      ],
      "metadata": {
        "colab": {
          "base_uri": "https://localhost:8080/"
        },
        "id": "0lPpJwAAFtZf",
        "outputId": "4b84db11-e18c-46fd-cc32-dcf4a1ff70fe"
      },
      "execution_count": null,
      "outputs": [
        {
          "output_type": "stream",
          "name": "stdout",
          "text": [
            "Model: \"sequential\"\n",
            "_________________________________________________________________\n",
            " Layer (type)                Output Shape              Param #   \n",
            "=================================================================\n",
            " vgg16 (Functional)          (None, 512)               14714688  \n",
            "                                                                 \n",
            " flatten (Flatten)           (None, 512)               0         \n",
            "                                                                 \n",
            " dense (Dense)               (None, 512)               262656    \n",
            "                                                                 \n",
            " dense_1 (Dense)             (None, 2)                 1026      \n",
            "                                                                 \n",
            "=================================================================\n",
            "Total params: 14,978,370\n",
            "Trainable params: 263,682\n",
            "Non-trainable params: 14,714,688\n",
            "_________________________________________________________________\n"
          ]
        }
      ]
    },
    {
      "cell_type": "code",
      "source": [
        "vgg16_model.compile(optimizer=Adam(learning_rate=0.001),loss='sparse_categorical_crossentropy',metrics=['accuracy'])\n"
      ],
      "metadata": {
        "id": "ntKmOaAUHe3E"
      },
      "execution_count": null,
      "outputs": []
    },
    {
      "cell_type": "code",
      "source": [
        "history = vgg16_model.fit(train_ds, validation_data= val_ds, epochs=5)"
      ],
      "metadata": {
        "colab": {
          "base_uri": "https://localhost:8080/"
        },
        "id": "3X0mAioEJeD-",
        "outputId": "e110e332-10b9-4300-e6d2-253d03748e02"
      },
      "execution_count": null,
      "outputs": [
        {
          "output_type": "stream",
          "name": "stdout",
          "text": [
            "Epoch 1/5\n",
            "166/166 [==============================] - 2331s 14s/step - loss: 0.3048 - accuracy: 0.9588 - val_loss: 0.1052 - val_accuracy: 0.9815\n",
            "Epoch 2/5\n",
            "166/166 [==============================] - 2304s 14s/step - loss: 0.0781 - accuracy: 0.9843 - val_loss: 0.0946 - val_accuracy: 0.9819\n",
            "Epoch 3/5\n",
            "166/166 [==============================] - 2379s 14s/step - loss: 0.0196 - accuracy: 0.9945 - val_loss: 0.0827 - val_accuracy: 0.9859\n",
            "Epoch 4/5\n",
            "166/166 [==============================] - 2379s 14s/step - loss: 0.0134 - accuracy: 0.9966 - val_loss: 0.0926 - val_accuracy: 0.9797\n",
            "Epoch 5/5\n",
            "166/166 [==============================] - 2430s 15s/step - loss: 0.0218 - accuracy: 0.9945 - val_loss: 0.0825 - val_accuracy: 0.9837\n"
          ]
        }
      ]
    },
    {
      "cell_type": "code",
      "source": [
        "train_ds"
      ],
      "metadata": {
        "colab": {
          "base_uri": "https://localhost:8080/"
        },
        "id": "1KFsJsVTNTcI",
        "outputId": "fd28cf8f-ea81-4709-a503-546204caf849"
      },
      "execution_count": null,
      "outputs": [
        {
          "output_type": "execute_result",
          "data": {
            "text/plain": [
              "<BatchDataset element_spec=(TensorSpec(shape=(None, 180, 180, 3), dtype=tf.float32, name=None), TensorSpec(shape=(None,), dtype=tf.int32, name=None))>"
            ]
          },
          "metadata": {},
          "execution_count": 12
        }
      ]
    },
    {
      "cell_type": "code",
      "source": [
        "fig1 = plt.gcf()\n",
        "plt.plot(history.history['accuracy'])\n",
        "plt.plot(history.history['val_accuracy'])\n",
        "plt.axis(ymin=0.4,ymax=1.2)\n",
        "plt.grid()\n",
        "plt.title('Model Accuracy')\n",
        "plt.ylabel('Accuracy')\n",
        "plt.xlabel('Epochs')\n",
        "plt.legend(['train', 'validation'])\n",
        "plt.show()"
      ],
      "metadata": {
        "colab": {
          "base_uri": "https://localhost:8080/",
          "height": 295
        },
        "id": "ssvazkKmLCJD",
        "outputId": "b1705406-881d-4cb6-af88-bbbebb9b3d39"
      },
      "execution_count": null,
      "outputs": [
        {
          "output_type": "display_data",
          "data": {
            "text/plain": [
              "<Figure size 432x288 with 1 Axes>"
            ],
            "image/png": "[encoded data removed]"
          },
          "metadata": {
            "needs_background": "light"
          }
        }
      ]
    },
    {
      "cell_type": "code",
      "source": [
        "#vgg16_model.save_weights(\"my_vgg16_model_weights.h5\")\n",
        "vgg16_model.save(\"my_vgg16_model.h5\")"
      ],
      "metadata": {
        "id": "zKm0gw-kO-O9"
      },
      "execution_count": null,
      "outputs": []
    },
    {
      "cell_type": "code",
      "source": [
        ""
      ],
      "metadata": {
        "id": "fTU9ExpsxNMH"
      },
      "execution_count": null,
      "outputs": []
    }
  ]
}